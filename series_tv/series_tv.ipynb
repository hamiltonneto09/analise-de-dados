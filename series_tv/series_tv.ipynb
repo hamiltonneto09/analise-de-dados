{
 "cells": [
  {
   "cell_type": "markdown",
   "id": "e4c8b40e",
   "metadata": {},
   "source": [
    "**Introdução: Explorando o Universo das Séries de TV**\n",
    "\n",
    "Bem-vindo a esta análise exploratória de dados (EDA) dedicada ao fascinante mundo das séries de TV. Os dados utilizados neste projeto foram adquiridos do Kaggle, proporcionando-nos uma visão detalhada e intrigante sobre esse vasto universo de entretenimento.\n",
    "\n",
    "Ao longo desta EDA, buscaremos responder a algumas perguntas cativantes que iluminarão aspectos cruciais do cenário televisivo. Dentre essas questões, destacamos a busca pela média das classificações atribuídas, a identificação do gênero mais prevalente nas séries, a análise do ano que testemunhou o maior número de lançamentos e a revelação dos atores que frequentemente brilham nas telas.\n",
    "\n",
    "Prepare-se para embarcar em uma jornada de descobertas, onde cada gráfico e cada número revelarão facetas únicas do panorama das séries de TV. Esta EDA promete não apenas oferecer respostas intrigantes, mas também inspirar novas perguntas sobre o fascinante universo televisivo que tanto cativa audiências ao redor do mundo. Vamos explorar juntos!"
   ]
  },
  {
   "cell_type": "code",
   "execution_count": 322,
   "id": "2b20e003",
   "metadata": {},
   "outputs": [],
   "source": [
    "import pandas as pd \n",
    "import numpy as np\n",
    "import matplotlib.pyplot as plt \n",
    "import seaborn as sns"
   ]
  },
  {
   "cell_type": "markdown",
   "id": "4e19cbb7",
   "metadata": {},
   "source": [
    "- **Nome das colunas**: Significados\n",
    "  - Series Title: O título da série de TV.\n",
    "  - Release Year: O ano de lançamento da série.\n",
    "  - Runtime: A duração média de cada episódio da série em minutos.\n",
    "  - Genre: O gênero ou gêneros aos quais a série pertence (por exemplo, Comédia, Crime, etc.).\n",
    "  - Rating: A classificação média atribuída à série.\n",
    "  - Cast: Os principais membros do elenco da série.\n",
    "  - Synopsis: Uma breve descrição ou resumo do enredo da série.\n"
   ]
  },
  {
   "cell_type": "code",
   "execution_count": 323,
   "id": "c6c7ac1e",
   "metadata": {},
   "outputs": [],
   "source": [
    "df = pd.read_csv('TV Series.csv')"
   ]
  },
  {
   "cell_type": "code",
   "execution_count": 324,
   "id": "ef9de6eb",
   "metadata": {},
   "outputs": [],
   "source": [
    "tem_duplicatas = df.duplicated()"
   ]
  },
  {
   "cell_type": "code",
   "execution_count": 325,
   "id": "ca0ac165",
   "metadata": {},
   "outputs": [
    {
     "data": {
      "text/plain": [
       "(39997, 7)"
      ]
     },
     "execution_count": 325,
     "metadata": {},
     "output_type": "execute_result"
    }
   ],
   "source": [
    "#tem muitos valores duplicados\n",
    "df[tem_duplicatas].shape"
   ]
  },
  {
   "cell_type": "code",
   "execution_count": 326,
   "id": "634e3b1b",
   "metadata": {},
   "outputs": [],
   "source": [
    "#dropando valores duplicados\n",
    "df.drop_duplicates(inplace=True)\n",
    "df.reset_index(drop=True, inplace=True)"
   ]
  },
  {
   "cell_type": "code",
   "execution_count": 327,
   "id": "50e4b69d",
   "metadata": {},
   "outputs": [
    {
     "data": {
      "text/html": [
       "<div>\n",
       "<style scoped>\n",
       "    .dataframe tbody tr th:only-of-type {\n",
       "        vertical-align: middle;\n",
       "    }\n",
       "\n",
       "    .dataframe tbody tr th {\n",
       "        vertical-align: top;\n",
       "    }\n",
       "\n",
       "    .dataframe thead th {\n",
       "        text-align: right;\n",
       "    }\n",
       "</style>\n",
       "<table border=\"1\" class=\"dataframe\">\n",
       "  <thead>\n",
       "    <tr style=\"text-align: right;\">\n",
       "      <th></th>\n",
       "      <th>Series Title</th>\n",
       "      <th>Release Year</th>\n",
       "      <th>Runtime</th>\n",
       "      <th>Genre</th>\n",
       "      <th>Rating</th>\n",
       "      <th>Cast</th>\n",
       "      <th>Synopsis</th>\n",
       "    </tr>\n",
       "  </thead>\n",
       "  <tbody>\n",
       "    <tr>\n",
       "      <th>0</th>\n",
       "      <td>Wednesday</td>\n",
       "      <td>(2022– )</td>\n",
       "      <td>45 min</td>\n",
       "      <td>Comedy, Crime, Fantasy</td>\n",
       "      <td>8.2</td>\n",
       "      <td>Jenna Ortega, Hunter Doohan, Percy Hynes White...</td>\n",
       "      <td>Follows Wednesday Addams' years as a student, ...</td>\n",
       "    </tr>\n",
       "    <tr>\n",
       "      <th>1</th>\n",
       "      <td>Yellowstone</td>\n",
       "      <td>(2018– )</td>\n",
       "      <td>60 min</td>\n",
       "      <td>Drama, Western</td>\n",
       "      <td>8.7</td>\n",
       "      <td>Kevin Costner, Luke Grimes, Kelly Reilly, Wes ...</td>\n",
       "      <td>A ranching family in Montana faces off against...</td>\n",
       "    </tr>\n",
       "    <tr>\n",
       "      <th>2</th>\n",
       "      <td>The White Lotus</td>\n",
       "      <td>(2021–2023)</td>\n",
       "      <td>60 min</td>\n",
       "      <td>Comedy, Drama</td>\n",
       "      <td>7.9</td>\n",
       "      <td>Jennifer Coolidge, Jon Gries, F. Murray Abraha...</td>\n",
       "      <td>Set in a tropical resort, it follows the explo...</td>\n",
       "    </tr>\n",
       "    <tr>\n",
       "      <th>3</th>\n",
       "      <td>1923</td>\n",
       "      <td>(2022–2023)</td>\n",
       "      <td>60 min</td>\n",
       "      <td>Drama, Western</td>\n",
       "      <td>8.6</td>\n",
       "      <td>Harrison Ford, Helen Mirren, Brandon Sklenar, ...</td>\n",
       "      <td>The Duttons face a new set of challenges in th...</td>\n",
       "    </tr>\n",
       "    <tr>\n",
       "      <th>4</th>\n",
       "      <td>Jack Ryan</td>\n",
       "      <td>(2018– )</td>\n",
       "      <td>60 min</td>\n",
       "      <td>Action, Drama, Thriller</td>\n",
       "      <td>8.0</td>\n",
       "      <td>John Krasinski, Wendell Pierce, Michael Kelly,...</td>\n",
       "      <td>Up-and-coming CIA analyst, Jack Ryan, is thrus...</td>\n",
       "    </tr>\n",
       "  </tbody>\n",
       "</table>\n",
       "</div>"
      ],
      "text/plain": [
       "      Series Title Release Year Runtime                    Genre Rating  \\\n",
       "0        Wednesday     (2022– )  45 min   Comedy, Crime, Fantasy    8.2   \n",
       "1      Yellowstone     (2018– )  60 min           Drama, Western    8.7   \n",
       "2  The White Lotus  (2021–2023)  60 min            Comedy, Drama    7.9   \n",
       "3             1923  (2022–2023)  60 min           Drama, Western    8.6   \n",
       "4        Jack Ryan     (2018– )  60 min  Action, Drama, Thriller    8.0   \n",
       "\n",
       "                                                Cast  \\\n",
       "0  Jenna Ortega, Hunter Doohan, Percy Hynes White...   \n",
       "1  Kevin Costner, Luke Grimes, Kelly Reilly, Wes ...   \n",
       "2  Jennifer Coolidge, Jon Gries, F. Murray Abraha...   \n",
       "3  Harrison Ford, Helen Mirren, Brandon Sklenar, ...   \n",
       "4  John Krasinski, Wendell Pierce, Michael Kelly,...   \n",
       "\n",
       "                                            Synopsis  \n",
       "0  Follows Wednesday Addams' years as a student, ...  \n",
       "1  A ranching family in Montana faces off against...  \n",
       "2  Set in a tropical resort, it follows the explo...  \n",
       "3  The Duttons face a new set of challenges in th...  \n",
       "4  Up-and-coming CIA analyst, Jack Ryan, is thrus...  "
      ]
     },
     "execution_count": 327,
     "metadata": {},
     "output_type": "execute_result"
    }
   ],
   "source": [
    "df.head()"
   ]
  },
  {
   "cell_type": "markdown",
   "id": "a0c0e491",
   "metadata": {},
   "source": [
    "transformando Release Year em datatime"
   ]
  },
  {
   "cell_type": "code",
   "execution_count": 328,
   "id": "0aa46185",
   "metadata": {},
   "outputs": [],
   "source": [
    "df['Release Year'] = df['Release Year'].str.replace('–', ', ').str.replace('(', '').str.replace(')', '')\n",
    "\n",
    "# Divida os anos em uma lista\n",
    "df['Release Year'] = df['Release Year'].str.split(', ')\n",
    "\n",
    "# Exploda a coluna 'Release Year' para criar uma nova linha para cada ano\n",
    "df = df.explode('Release Year')\n",
    "\n",
    "# Remova linhas onde 'Release Year' não é um número\n",
    "df = df[pd.to_numeric(df['Release Year'], errors='coerce').notnull()]\n",
    "\n",
    "# Transforme 'Release Year' em tipo datetime\n",
    "df['Release Year'] = pd.to_datetime(df['Release Year'], format='%Y', errors='coerce')\n"
   ]
  },
  {
   "cell_type": "code",
   "execution_count": 329,
   "id": "091d5c5b",
   "metadata": {},
   "outputs": [
    {
     "data": {
      "text/html": [
       "<div>\n",
       "<style scoped>\n",
       "    .dataframe tbody tr th:only-of-type {\n",
       "        vertical-align: middle;\n",
       "    }\n",
       "\n",
       "    .dataframe tbody tr th {\n",
       "        vertical-align: top;\n",
       "    }\n",
       "\n",
       "    .dataframe thead th {\n",
       "        text-align: right;\n",
       "    }\n",
       "</style>\n",
       "<table border=\"1\" class=\"dataframe\">\n",
       "  <thead>\n",
       "    <tr style=\"text-align: right;\">\n",
       "      <th></th>\n",
       "      <th>Series Title</th>\n",
       "      <th>Release Year</th>\n",
       "      <th>Runtime</th>\n",
       "      <th>Genre</th>\n",
       "      <th>Rating</th>\n",
       "      <th>Cast</th>\n",
       "      <th>Synopsis</th>\n",
       "    </tr>\n",
       "  </thead>\n",
       "  <tbody>\n",
       "    <tr>\n",
       "      <th>0</th>\n",
       "      <td>Wednesday</td>\n",
       "      <td>2022-01-01</td>\n",
       "      <td>45 min</td>\n",
       "      <td>Comedy, Crime, Fantasy</td>\n",
       "      <td>8.2</td>\n",
       "      <td>Jenna Ortega, Hunter Doohan, Percy Hynes White...</td>\n",
       "      <td>Follows Wednesday Addams' years as a student, ...</td>\n",
       "    </tr>\n",
       "    <tr>\n",
       "      <th>1</th>\n",
       "      <td>Yellowstone</td>\n",
       "      <td>2018-01-01</td>\n",
       "      <td>60 min</td>\n",
       "      <td>Drama, Western</td>\n",
       "      <td>8.7</td>\n",
       "      <td>Kevin Costner, Luke Grimes, Kelly Reilly, Wes ...</td>\n",
       "      <td>A ranching family in Montana faces off against...</td>\n",
       "    </tr>\n",
       "    <tr>\n",
       "      <th>2</th>\n",
       "      <td>The White Lotus</td>\n",
       "      <td>2021-01-01</td>\n",
       "      <td>60 min</td>\n",
       "      <td>Comedy, Drama</td>\n",
       "      <td>7.9</td>\n",
       "      <td>Jennifer Coolidge, Jon Gries, F. Murray Abraha...</td>\n",
       "      <td>Set in a tropical resort, it follows the explo...</td>\n",
       "    </tr>\n",
       "    <tr>\n",
       "      <th>2</th>\n",
       "      <td>The White Lotus</td>\n",
       "      <td>2023-01-01</td>\n",
       "      <td>60 min</td>\n",
       "      <td>Comedy, Drama</td>\n",
       "      <td>7.9</td>\n",
       "      <td>Jennifer Coolidge, Jon Gries, F. Murray Abraha...</td>\n",
       "      <td>Set in a tropical resort, it follows the explo...</td>\n",
       "    </tr>\n",
       "    <tr>\n",
       "      <th>3</th>\n",
       "      <td>1923</td>\n",
       "      <td>2022-01-01</td>\n",
       "      <td>60 min</td>\n",
       "      <td>Drama, Western</td>\n",
       "      <td>8.6</td>\n",
       "      <td>Harrison Ford, Helen Mirren, Brandon Sklenar, ...</td>\n",
       "      <td>The Duttons face a new set of challenges in th...</td>\n",
       "    </tr>\n",
       "  </tbody>\n",
       "</table>\n",
       "</div>"
      ],
      "text/plain": [
       "      Series Title Release Year Runtime                   Genre Rating  \\\n",
       "0        Wednesday   2022-01-01  45 min  Comedy, Crime, Fantasy    8.2   \n",
       "1      Yellowstone   2018-01-01  60 min          Drama, Western    8.7   \n",
       "2  The White Lotus   2021-01-01  60 min           Comedy, Drama    7.9   \n",
       "2  The White Lotus   2023-01-01  60 min           Comedy, Drama    7.9   \n",
       "3             1923   2022-01-01  60 min          Drama, Western    8.6   \n",
       "\n",
       "                                                Cast  \\\n",
       "0  Jenna Ortega, Hunter Doohan, Percy Hynes White...   \n",
       "1  Kevin Costner, Luke Grimes, Kelly Reilly, Wes ...   \n",
       "2  Jennifer Coolidge, Jon Gries, F. Murray Abraha...   \n",
       "2  Jennifer Coolidge, Jon Gries, F. Murray Abraha...   \n",
       "3  Harrison Ford, Helen Mirren, Brandon Sklenar, ...   \n",
       "\n",
       "                                            Synopsis  \n",
       "0  Follows Wednesday Addams' years as a student, ...  \n",
       "1  A ranching family in Montana faces off against...  \n",
       "2  Set in a tropical resort, it follows the explo...  \n",
       "2  Set in a tropical resort, it follows the explo...  \n",
       "3  The Duttons face a new set of challenges in th...  "
      ]
     },
     "execution_count": 329,
     "metadata": {},
     "output_type": "execute_result"
    }
   ],
   "source": [
    "df.head()"
   ]
  },
  {
   "cell_type": "markdown",
   "id": "c6c52e5c",
   "metadata": {},
   "source": [
    "transformando Rating em númerico"
   ]
  },
  {
   "cell_type": "code",
   "execution_count": 330,
   "id": "28c2ccbd",
   "metadata": {},
   "outputs": [],
   "source": [
    "df['Rating'] = df['Rating'].replace(' min')\n",
    "df['Rating'] = pd.to_numeric(df['Rating'], errors='coerce')"
   ]
  },
  {
   "cell_type": "code",
   "execution_count": 331,
   "id": "45fc18bc",
   "metadata": {},
   "outputs": [],
   "source": [
    "# Dividindo os valores da coluna 'Genre' em listas\n",
    "df['Genre'] = df['Genre'].str.split(', ')\n",
    "\n",
    "# Dividindo os valores da coluna 'Cast' em listas\n",
    "df['Cast'] = df['Cast'].str.split(', ')\n",
    "\n",
    "# Expandindo as listas na coluna 'Genre' para criar múltiplas entradas\n",
    "df = df.explode('Genre')\n",
    "\n",
    "# Expandindo as listas na coluna 'Cast' para criar múltiplas entradas\n",
    "df = df.explode('Cast')"
   ]
  },
  {
   "cell_type": "markdown",
   "id": "ba292425",
   "metadata": {},
   "source": [
    "Qual é a média de classificação (Rating) das séries no DataFrame?"
   ]
  },
  {
   "cell_type": "code",
   "execution_count": 332,
   "id": "94e49851",
   "metadata": {},
   "outputs": [
    {
     "data": {
      "text/plain": [
       "7.1974517096580675"
      ]
     },
     "execution_count": 332,
     "metadata": {},
     "output_type": "execute_result"
    }
   ],
   "source": [
    "mean_rating =df['Rating'].mean()\n",
    "mean_rating"
   ]
  },
  {
   "cell_type": "code",
   "execution_count": 333,
   "id": "090ea22d",
   "metadata": {},
   "outputs": [
    {
     "data": {
      "text/plain": [
       "Text(0.5, 0, 'Avaliação')"
      ]
     },
     "execution_count": 333,
     "metadata": {},
     "output_type": "execute_result"
    },
    {
     "data": {
      "image/png": "[encoded data removed]",
      "text/plain": [
       "<Figure size 640x480 with 1 Axes>"
      ]
     },
     "metadata": {},
     "output_type": "display_data"
    }
   ],
   "source": [
    "plt.hist(df['Rating'], bins=10, edgecolor='black', alpha=0.7, label='Avaliações')\n",
    "plt.axvline(x=mean_rating, color='red', linestyle='dashed', linewidth=1, label='Média')\n",
    "plt.yticks([])\n",
    "plt.legend()\n",
    "plt.title('Distribuição das Avaliações')\n",
    "plt.xlabel('Avaliação')"
   ]
  },
  {
   "cell_type": "code",
   "execution_count": 334,
   "id": "9edb4bdd",
   "metadata": {},
   "outputs": [
    {
     "data": {
      "text/html": [
       "<div>\n",
       "<style scoped>\n",
       "    .dataframe tbody tr th:only-of-type {\n",
       "        vertical-align: middle;\n",
       "    }\n",
       "\n",
       "    .dataframe tbody tr th {\n",
       "        vertical-align: top;\n",
       "    }\n",
       "\n",
       "    .dataframe thead th {\n",
       "        text-align: right;\n",
       "    }\n",
       "</style>\n",
       "<table border=\"1\" class=\"dataframe\">\n",
       "  <thead>\n",
       "    <tr style=\"text-align: right;\">\n",
       "      <th></th>\n",
       "      <th>Series Title</th>\n",
       "      <th>Release Year</th>\n",
       "      <th>Runtime</th>\n",
       "      <th>Genre</th>\n",
       "      <th>Rating</th>\n",
       "      <th>Cast</th>\n",
       "      <th>Synopsis</th>\n",
       "    </tr>\n",
       "  </thead>\n",
       "  <tbody>\n",
       "    <tr>\n",
       "      <th>0</th>\n",
       "      <td>Wednesday</td>\n",
       "      <td>2022-01-01</td>\n",
       "      <td>45 min</td>\n",
       "      <td>Comedy</td>\n",
       "      <td>8.2</td>\n",
       "      <td>Jenna Ortega</td>\n",
       "      <td>Follows Wednesday Addams' years as a student, ...</td>\n",
       "    </tr>\n",
       "    <tr>\n",
       "      <th>0</th>\n",
       "      <td>Wednesday</td>\n",
       "      <td>2022-01-01</td>\n",
       "      <td>45 min</td>\n",
       "      <td>Comedy</td>\n",
       "      <td>8.2</td>\n",
       "      <td>Hunter Doohan</td>\n",
       "      <td>Follows Wednesday Addams' years as a student, ...</td>\n",
       "    </tr>\n",
       "    <tr>\n",
       "      <th>0</th>\n",
       "      <td>Wednesday</td>\n",
       "      <td>2022-01-01</td>\n",
       "      <td>45 min</td>\n",
       "      <td>Comedy</td>\n",
       "      <td>8.2</td>\n",
       "      <td>Percy Hynes White</td>\n",
       "      <td>Follows Wednesday Addams' years as a student, ...</td>\n",
       "    </tr>\n",
       "    <tr>\n",
       "      <th>0</th>\n",
       "      <td>Wednesday</td>\n",
       "      <td>2022-01-01</td>\n",
       "      <td>45 min</td>\n",
       "      <td>Comedy</td>\n",
       "      <td>8.2</td>\n",
       "      <td>Emma Myers</td>\n",
       "      <td>Follows Wednesday Addams' years as a student, ...</td>\n",
       "    </tr>\n",
       "    <tr>\n",
       "      <th>0</th>\n",
       "      <td>Wednesday</td>\n",
       "      <td>2022-01-01</td>\n",
       "      <td>45 min</td>\n",
       "      <td>Crime</td>\n",
       "      <td>8.2</td>\n",
       "      <td>Jenna Ortega</td>\n",
       "      <td>Follows Wednesday Addams' years as a student, ...</td>\n",
       "    </tr>\n",
       "  </tbody>\n",
       "</table>\n",
       "</div>"
      ],
      "text/plain": [
       "  Series Title Release Year Runtime   Genre  Rating               Cast  \\\n",
       "0    Wednesday   2022-01-01  45 min  Comedy     8.2       Jenna Ortega   \n",
       "0    Wednesday   2022-01-01  45 min  Comedy     8.2      Hunter Doohan   \n",
       "0    Wednesday   2022-01-01  45 min  Comedy     8.2  Percy Hynes White   \n",
       "0    Wednesday   2022-01-01  45 min  Comedy     8.2         Emma Myers   \n",
       "0    Wednesday   2022-01-01  45 min   Crime     8.2       Jenna Ortega   \n",
       "\n",
       "                                            Synopsis  \n",
       "0  Follows Wednesday Addams' years as a student, ...  \n",
       "0  Follows Wednesday Addams' years as a student, ...  \n",
       "0  Follows Wednesday Addams' years as a student, ...  \n",
       "0  Follows Wednesday Addams' years as a student, ...  \n",
       "0  Follows Wednesday Addams' years as a student, ...  "
      ]
     },
     "execution_count": 334,
     "metadata": {},
     "output_type": "execute_result"
    }
   ],
   "source": [
    "df.head()"
   ]
  },
  {
   "cell_type": "markdown",
   "id": "1665de96",
   "metadata": {},
   "source": [
    "Qual é o gênero mais comum entre as séries listadas?"
   ]
  },
  {
   "cell_type": "code",
   "execution_count": 335,
   "id": "57e8a2ba",
   "metadata": {},
   "outputs": [
    {
     "data": {
      "text/html": [
       "<div>\n",
       "<style scoped>\n",
       "    .dataframe tbody tr th:only-of-type {\n",
       "        vertical-align: middle;\n",
       "    }\n",
       "\n",
       "    .dataframe tbody tr th {\n",
       "        vertical-align: top;\n",
       "    }\n",
       "\n",
       "    .dataframe thead th {\n",
       "        text-align: right;\n",
       "    }\n",
       "</style>\n",
       "<table border=\"1\" class=\"dataframe\">\n",
       "  <thead>\n",
       "    <tr style=\"text-align: right;\">\n",
       "      <th></th>\n",
       "      <th>count</th>\n",
       "    </tr>\n",
       "    <tr>\n",
       "      <th>Genre</th>\n",
       "      <th></th>\n",
       "    </tr>\n",
       "  </thead>\n",
       "  <tbody>\n",
       "    <tr>\n",
       "      <th>Drama</th>\n",
       "      <td>25708</td>\n",
       "    </tr>\n",
       "    <tr>\n",
       "      <th>Comedy</th>\n",
       "      <td>22327</td>\n",
       "    </tr>\n",
       "    <tr>\n",
       "      <th>Action</th>\n",
       "      <td>10399</td>\n",
       "    </tr>\n",
       "    <tr>\n",
       "      <th>Crime</th>\n",
       "      <td>9783</td>\n",
       "    </tr>\n",
       "    <tr>\n",
       "      <th>Adventure</th>\n",
       "      <td>9273</td>\n",
       "    </tr>\n",
       "    <tr>\n",
       "      <th>Animation</th>\n",
       "      <td>9076</td>\n",
       "    </tr>\n",
       "    <tr>\n",
       "      <th>Family</th>\n",
       "      <td>5500</td>\n",
       "    </tr>\n",
       "    <tr>\n",
       "      <th>Romance</th>\n",
       "      <td>5371</td>\n",
       "    </tr>\n",
       "    <tr>\n",
       "      <th>Mystery</th>\n",
       "      <td>5137</td>\n",
       "    </tr>\n",
       "    <tr>\n",
       "      <th>Fantasy</th>\n",
       "      <td>3562</td>\n",
       "    </tr>\n",
       "    <tr>\n",
       "      <th>Reality-TV</th>\n",
       "      <td>3132</td>\n",
       "    </tr>\n",
       "    <tr>\n",
       "      <th>Thriller</th>\n",
       "      <td>2850</td>\n",
       "    </tr>\n",
       "    <tr>\n",
       "      <th>Documentary</th>\n",
       "      <td>2190</td>\n",
       "    </tr>\n",
       "    <tr>\n",
       "      <th>Sci-Fi</th>\n",
       "      <td>2112</td>\n",
       "    </tr>\n",
       "    <tr>\n",
       "      <th>Horror</th>\n",
       "      <td>1598</td>\n",
       "    </tr>\n",
       "    <tr>\n",
       "      <th>History</th>\n",
       "      <td>1378</td>\n",
       "    </tr>\n",
       "    <tr>\n",
       "      <th>Short</th>\n",
       "      <td>1244</td>\n",
       "    </tr>\n",
       "    <tr>\n",
       "      <th>Game-Show</th>\n",
       "      <td>1239</td>\n",
       "    </tr>\n",
       "    <tr>\n",
       "      <th>Music</th>\n",
       "      <td>1012</td>\n",
       "    </tr>\n",
       "    <tr>\n",
       "      <th>Sport</th>\n",
       "      <td>724</td>\n",
       "    </tr>\n",
       "    <tr>\n",
       "      <th>Biography</th>\n",
       "      <td>702</td>\n",
       "    </tr>\n",
       "    <tr>\n",
       "      <th>Western</th>\n",
       "      <td>660</td>\n",
       "    </tr>\n",
       "    <tr>\n",
       "      <th>Talk-Show</th>\n",
       "      <td>623</td>\n",
       "    </tr>\n",
       "    <tr>\n",
       "      <th>War</th>\n",
       "      <td>385</td>\n",
       "    </tr>\n",
       "    <tr>\n",
       "      <th>Musical</th>\n",
       "      <td>284</td>\n",
       "    </tr>\n",
       "    <tr>\n",
       "      <th>News</th>\n",
       "      <td>228</td>\n",
       "    </tr>\n",
       "    <tr>\n",
       "      <th>****</th>\n",
       "      <td>62</td>\n",
       "    </tr>\n",
       "  </tbody>\n",
       "</table>\n",
       "</div>"
      ],
      "text/plain": [
       "             count\n",
       "Genre             \n",
       "Drama        25708\n",
       "Comedy       22327\n",
       "Action       10399\n",
       "Crime         9783\n",
       "Adventure     9273\n",
       "Animation     9076\n",
       "Family        5500\n",
       "Romance       5371\n",
       "Mystery       5137\n",
       "Fantasy       3562\n",
       "Reality-TV    3132\n",
       "Thriller      2850\n",
       "Documentary   2190\n",
       "Sci-Fi        2112\n",
       "Horror        1598\n",
       "History       1378\n",
       "Short         1244\n",
       "Game-Show     1239\n",
       "Music         1012\n",
       "Sport          724\n",
       "Biography      702\n",
       "Western        660\n",
       "Talk-Show      623\n",
       "War            385\n",
       "Musical        284\n",
       "News           228\n",
       "****            62"
      ]
     },
     "execution_count": 335,
     "metadata": {},
     "output_type": "execute_result"
    }
   ],
   "source": [
    "genero_comum = df['Genre'].value_counts()\n",
    "genero_comum = genero_comum.to_frame()\n",
    "genero_comum"
   ]
  },
  {
   "cell_type": "code",
   "execution_count": 336,
   "id": "f6ed3910",
   "metadata": {},
   "outputs": [
    {
     "data": {
      "image/png": "[encoded data removed]",
      "text/plain": [
       "<Figure size 1000x600 with 1 Axes>"
      ]
     },
     "metadata": {},
     "output_type": "display_data"
    }
   ],
   "source": [
    "plt.figure(figsize=(10, 6)) \n",
    "plt.barh(genero_comum.index, genero_comum['count']) \n",
    "\n",
    "plt.xlabel('Contagem')\n",
    "plt.ylabel('Gênero')\n",
    "plt.title('Contagem de Filmes por Gênero')\n",
    "\n",
    "plt.show()\n"
   ]
  },
  {
   "cell_type": "markdown",
   "id": "e6951f62",
   "metadata": {},
   "source": [
    "Qual é o ano que mais teve lançamento de séries no DataFrame?"
   ]
  },
  {
   "cell_type": "code",
   "execution_count": 337,
   "id": "b293388f",
   "metadata": {},
   "outputs": [
    {
     "data": {
      "text/html": [
       "<div>\n",
       "<style scoped>\n",
       "    .dataframe tbody tr th:only-of-type {\n",
       "        vertical-align: middle;\n",
       "    }\n",
       "\n",
       "    .dataframe tbody tr th {\n",
       "        vertical-align: top;\n",
       "    }\n",
       "\n",
       "    .dataframe thead th {\n",
       "        text-align: right;\n",
       "    }\n",
       "</style>\n",
       "<table border=\"1\" class=\"dataframe\">\n",
       "  <thead>\n",
       "    <tr style=\"text-align: right;\">\n",
       "      <th></th>\n",
       "      <th>Series Title</th>\n",
       "      <th>Release Year</th>\n",
       "      <th>Runtime</th>\n",
       "      <th>Genre</th>\n",
       "      <th>Rating</th>\n",
       "      <th>Cast</th>\n",
       "      <th>Synopsis</th>\n",
       "    </tr>\n",
       "  </thead>\n",
       "  <tbody>\n",
       "    <tr>\n",
       "      <th>0</th>\n",
       "      <td>Wednesday</td>\n",
       "      <td>2022-01-01</td>\n",
       "      <td>45 min</td>\n",
       "      <td>Comedy</td>\n",
       "      <td>8.2</td>\n",
       "      <td>Jenna Ortega</td>\n",
       "      <td>Follows Wednesday Addams' years as a student, ...</td>\n",
       "    </tr>\n",
       "    <tr>\n",
       "      <th>0</th>\n",
       "      <td>Wednesday</td>\n",
       "      <td>2022-01-01</td>\n",
       "      <td>45 min</td>\n",
       "      <td>Comedy</td>\n",
       "      <td>8.2</td>\n",
       "      <td>Hunter Doohan</td>\n",
       "      <td>Follows Wednesday Addams' years as a student, ...</td>\n",
       "    </tr>\n",
       "    <tr>\n",
       "      <th>0</th>\n",
       "      <td>Wednesday</td>\n",
       "      <td>2022-01-01</td>\n",
       "      <td>45 min</td>\n",
       "      <td>Comedy</td>\n",
       "      <td>8.2</td>\n",
       "      <td>Percy Hynes White</td>\n",
       "      <td>Follows Wednesday Addams' years as a student, ...</td>\n",
       "    </tr>\n",
       "    <tr>\n",
       "      <th>0</th>\n",
       "      <td>Wednesday</td>\n",
       "      <td>2022-01-01</td>\n",
       "      <td>45 min</td>\n",
       "      <td>Comedy</td>\n",
       "      <td>8.2</td>\n",
       "      <td>Emma Myers</td>\n",
       "      <td>Follows Wednesday Addams' years as a student, ...</td>\n",
       "    </tr>\n",
       "    <tr>\n",
       "      <th>0</th>\n",
       "      <td>Wednesday</td>\n",
       "      <td>2022-01-01</td>\n",
       "      <td>45 min</td>\n",
       "      <td>Crime</td>\n",
       "      <td>8.2</td>\n",
       "      <td>Jenna Ortega</td>\n",
       "      <td>Follows Wednesday Addams' years as a student, ...</td>\n",
       "    </tr>\n",
       "  </tbody>\n",
       "</table>\n",
       "</div>"
      ],
      "text/plain": [
       "  Series Title Release Year Runtime   Genre  Rating               Cast  \\\n",
       "0    Wednesday   2022-01-01  45 min  Comedy     8.2       Jenna Ortega   \n",
       "0    Wednesday   2022-01-01  45 min  Comedy     8.2      Hunter Doohan   \n",
       "0    Wednesday   2022-01-01  45 min  Comedy     8.2  Percy Hynes White   \n",
       "0    Wednesday   2022-01-01  45 min  Comedy     8.2         Emma Myers   \n",
       "0    Wednesday   2022-01-01  45 min   Crime     8.2       Jenna Ortega   \n",
       "\n",
       "                                            Synopsis  \n",
       "0  Follows Wednesday Addams' years as a student, ...  \n",
       "0  Follows Wednesday Addams' years as a student, ...  \n",
       "0  Follows Wednesday Addams' years as a student, ...  \n",
       "0  Follows Wednesday Addams' years as a student, ...  \n",
       "0  Follows Wednesday Addams' years as a student, ...  "
      ]
     },
     "execution_count": 337,
     "metadata": {},
     "output_type": "execute_result"
    }
   ],
   "source": [
    "df.head()"
   ]
  },
  {
   "cell_type": "code",
   "execution_count": 338,
   "id": "16e55f64",
   "metadata": {},
   "outputs": [
    {
     "name": "stdout",
     "output_type": "stream",
     "text": [
      "o ano que mais teve lançamento de séries 2022 com 11542 lançadas\n"
     ]
    }
   ],
   "source": [
    "series_por_ano = df['Release Year'].value_counts()\n",
    "ano_com_mais_series = series_por_ano.idxmax().year\n",
    "n_series = series_por_ano.max()\n",
    "print(f'o ano que mais teve lançamento de séries {ano_com_mais_series} com {n_series} lançadas')"
   ]
  },
  {
   "cell_type": "code",
   "execution_count": 339,
   "id": "b5fddecb",
   "metadata": {},
   "outputs": [
    {
     "data": {
      "image/png": "[encoded data removed]",
      "text/plain": [
       "<Figure size 1000x600 with 1 Axes>"
      ]
     },
     "metadata": {},
     "output_type": "display_data"
    }
   ],
   "source": [
    "# Agrupe os dados por ano e conte o número de séries lançadas em cada ano\n",
    "series_por_ano = df.groupby('Release Year')['Series Title'].count()\n",
    "\n",
    "# Crie um gráfico de linha\n",
    "plt.figure(figsize=(10, 6))\n",
    "plt.plot(series_por_ano.index, series_por_ano.values, marker='o')\n",
    "plt.title('Número de Séries Lançadas por Ano')\n",
    "plt.xlabel('Ano')\n",
    "plt.ylabel('Número de Séries')\n",
    "plt.grid(True)\n",
    "plt.show()"
   ]
  },
  {
   "cell_type": "markdown",
   "id": "ef88e059",
   "metadata": {},
   "source": [
    "Quais são os três principais atores/atrizes com base no número de séries em que aparecem?"
   ]
  },
  {
   "cell_type": "code",
   "execution_count": 340,
   "id": "bca7d48c",
   "metadata": {},
   "outputs": [
    {
     "data": {
      "text/html": [
       "<div>\n",
       "<style scoped>\n",
       "    .dataframe tbody tr th:only-of-type {\n",
       "        vertical-align: middle;\n",
       "    }\n",
       "\n",
       "    .dataframe tbody tr th {\n",
       "        vertical-align: top;\n",
       "    }\n",
       "\n",
       "    .dataframe thead th {\n",
       "        text-align: right;\n",
       "    }\n",
       "</style>\n",
       "<table border=\"1\" class=\"dataframe\">\n",
       "  <thead>\n",
       "    <tr style=\"text-align: right;\">\n",
       "      <th></th>\n",
       "      <th>count</th>\n",
       "    </tr>\n",
       "    <tr>\n",
       "      <th>Cast</th>\n",
       "      <th></th>\n",
       "    </tr>\n",
       "  </thead>\n",
       "  <tbody>\n",
       "    <tr>\n",
       "      <th>Frank Welker</th>\n",
       "      <td>186</td>\n",
       "    </tr>\n",
       "    <tr>\n",
       "      <th>Grey Griffin</th>\n",
       "      <td>159</td>\n",
       "    </tr>\n",
       "    <tr>\n",
       "      <th>Tom Kenny</th>\n",
       "      <td>142</td>\n",
       "    </tr>\n",
       "    <tr>\n",
       "      <th>Jeff Bennett</th>\n",
       "      <td>135</td>\n",
       "    </tr>\n",
       "    <tr>\n",
       "      <th>Dee Bradley Baker</th>\n",
       "      <td>105</td>\n",
       "    </tr>\n",
       "    <tr>\n",
       "      <th>...</th>\n",
       "      <td>...</td>\n",
       "    </tr>\n",
       "    <tr>\n",
       "      <th>Lindsay Glazer</th>\n",
       "      <td>1</td>\n",
       "    </tr>\n",
       "    <tr>\n",
       "      <th>Elma Mbadiwe</th>\n",
       "      <td>1</td>\n",
       "    </tr>\n",
       "    <tr>\n",
       "      <th>Tomi Ojo</th>\n",
       "      <td>1</td>\n",
       "    </tr>\n",
       "    <tr>\n",
       "      <th>Funke Akindele</th>\n",
       "      <td>1</td>\n",
       "    </tr>\n",
       "    <tr>\n",
       "      <th>Sean Pertwee</th>\n",
       "      <td>1</td>\n",
       "    </tr>\n",
       "  </tbody>\n",
       "</table>\n",
       "<p>26276 rows × 1 columns</p>\n",
       "</div>"
      ],
      "text/plain": [
       "                   count\n",
       "Cast                    \n",
       "Frank Welker         186\n",
       "Grey Griffin         159\n",
       "Tom Kenny            142\n",
       "Jeff Bennett         135\n",
       "Dee Bradley Baker    105\n",
       "...                  ...\n",
       "Lindsay Glazer         1\n",
       "Elma Mbadiwe           1\n",
       "Tomi Ojo               1\n",
       "Funke Akindele         1\n",
       "Sean Pertwee           1\n",
       "\n",
       "[26276 rows x 1 columns]"
      ]
     },
     "execution_count": 340,
     "metadata": {},
     "output_type": "execute_result"
    }
   ],
   "source": [
    "principais = df['Cast'].value_counts().to_frame()\n",
    "principais"
   ]
  },
  {
   "cell_type": "code",
   "execution_count": 341,
   "id": "27d59918",
   "metadata": {},
   "outputs": [
    {
     "data": {
      "text/plain": [
       "<BarContainer object of 3 artists>"
      ]
     },
     "execution_count": 341,
     "metadata": {},
     "output_type": "execute_result"
    },
    {
     "data": {
      "image/png": "[encoded data removed]",
      "text/plain": [
       "<Figure size 500x500 with 1 Axes>"
      ]
     },
     "metadata": {},
     "output_type": "display_data"
    }
   ],
   "source": [
    "plt.figure(figsize=(5,5))\n",
    "plt.bar(principais.index[:3], principais['count'][:3],color='skyblue')"
   ]
  },
  {
   "cell_type": "markdown",
   "id": "9b145c91",
   "metadata": {},
   "source": [
    "Após uma análise exploratória de dados (EDA), descobrimos insights intrigantes sobre as séries examinadas. A classificação média geral das séries é de 7, indicando que, em média, as séries são bem avaliadas. Notavelmente, o gênero mais comum entre as séries analisadas é Drama, seguido por Comédia e Ação. Além disso, concluímos que o ano de 2022 teve o maior número de lançamentos de séries, com um total impressionante de 11.542 novos títulos.\n",
    "\n",
    "Ao identificar os atores que mais aparecem nas séries, destacamos três figuras proeminentes. Frank Welker lidera a lista com 186 aparições, seguido por Grey Griffin com 168 e Tom Kenny com 154. Essas descobertas fornecem insights valiosos sobre as tendências gerais das séries analisadas.\n",
    "\n",
    "Essa EDA não apenas oferece uma visão abrangente do panorama das séries, mas também destaca aspectos notáveis, como a qualidade média das avaliações, os gêneros predominantes e os atores mais frequentes. Espero que essas informações sejam úteis e esclarecedoras para qualquer análise futura. "
   ]
  }
 ],
 "metadata": {
  "kernelspec": {
   "display_name": "Python 3 (ipykernel)",
   "language": "python",
   "name": "python3"
  },
  "language_info": {
   "codemirror_mode": {
    "name": "ipython",
    "version": 3
   },
   "file_extension": ".py",
   "mimetype": "text/x-python",
   "name": "python",
   "nbconvert_exporter": "python",
   "pygments_lexer": "ipython3",
   "version": "3.11.5"
  }
 },
 "nbformat": 4,
 "nbformat_minor": 5
}
