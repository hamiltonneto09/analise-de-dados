{
 "cells": [
  {
   "cell_type": "markdown",
   "id": "7aee49f7",
   "metadata": {},
   "source": [
    "# Análise dos Bilionários da Forbes em 2023\n",
    "\n",
    "Bem-vindo à análise abrangente dos bilionários listados pela Forbes em 2023. Neste trabalho, exploramos os dados detalhados sobre os indivíduos mais ricos do mundo, buscando insights sobre suas fortunas, origens, idades e a distribuição global da riqueza. Os dados foram extraídos da Forbes, uma fonte confiável e renomada para classificar as pessoas mais ricas do planeta.\n",
    "\n",
    "## Objetivo da Análise\n",
    "\n",
    "O principal objetivo desta análise é proporcionar uma compreensão aprofundada do panorama dos bilionários em 2023. Buscamos responder a perguntas específicas, como quem são os 10 bilionários mais ricos, qual é a distribuição de idades, qual é a nacionalidade predominante, se existe correlação entre idade e fortuna, e quais são as principais fontes de riqueza representadas nesta lista.\n",
    "\n",
    "## Fonte dos Dados\n",
    "\n",
    "Os dados foram obtidos a partir do conjunto de dados fornecido pelo kaggle, detalhando informações cruciais, como classificação, nome, patrimônio líquido, idade, origem e país de cada bilionário listado.\n",
    "\n",
    "## Estrutura do Trabalho\n",
    "\n",
    "O notebook está organizado em seções lógicas, cada uma focada em uma pergunta específica. Em cada seção, realizamos tratamento de dados, visualizações gráficas e análises estatísticas para extrair insights significativos.\n",
    "\n",
    "Vamos iniciar nossa jornada exploratória pelos dados dos bilionários de 2023 e desvendar os padrões e tendências que podem estar por trás das fortunas mais impressionantes do mundo.\n"
   ]
  },
  {
   "cell_type": "code",
   "execution_count": 1,
   "id": "9ae25eac",
   "metadata": {},
   "outputs": [],
   "source": [
    "import pandas as pd \n",
    "import numpy as np\n",
    "import matplotlib.pyplot as plt\n",
    "import seaborn as sns"
   ]
  },
  {
   "cell_type": "code",
   "execution_count": 2,
   "id": "a79b5ddd",
   "metadata": {},
   "outputs": [
    {
     "data": {
      "text/html": [
       "<div>\n",
       "<style scoped>\n",
       "    .dataframe tbody tr th:only-of-type {\n",
       "        vertical-align: middle;\n",
       "    }\n",
       "\n",
       "    .dataframe tbody tr th {\n",
       "        vertical-align: top;\n",
       "    }\n",
       "\n",
       "    .dataframe thead th {\n",
       "        text-align: right;\n",
       "    }\n",
       "</style>\n",
       "<table border=\"1\" class=\"dataframe\">\n",
       "  <thead>\n",
       "    <tr style=\"text-align: right;\">\n",
       "      <th></th>\n",
       "      <th>Rank</th>\n",
       "      <th>Name</th>\n",
       "      <th>Net Worth</th>\n",
       "      <th>Change</th>\n",
       "      <th>Age</th>\n",
       "      <th>Source</th>\n",
       "      <th>Country/Territory</th>\n",
       "    </tr>\n",
       "  </thead>\n",
       "  <tbody>\n",
       "    <tr>\n",
       "      <th>0</th>\n",
       "      <td>1</td>\n",
       "      <td>Bernard Arnault &amp; family</td>\n",
       "      <td>$232.2 B</td>\n",
       "      <td>$0M | 0.00%</td>\n",
       "      <td>74.0</td>\n",
       "      <td>LVMH</td>\n",
       "      <td>France</td>\n",
       "    </tr>\n",
       "    <tr>\n",
       "      <th>1</th>\n",
       "      <td>2</td>\n",
       "      <td>Elon Musk</td>\n",
       "      <td>$184.7 B</td>\n",
       "      <td>$0M | 0.00%</td>\n",
       "      <td>51.0</td>\n",
       "      <td>Tesla, SpaceX</td>\n",
       "      <td>United States</td>\n",
       "    </tr>\n",
       "    <tr>\n",
       "      <th>2</th>\n",
       "      <td>3</td>\n",
       "      <td>Jeff Bezos</td>\n",
       "      <td>$139.1 B</td>\n",
       "      <td>$0M | 0.00%</td>\n",
       "      <td>59.0</td>\n",
       "      <td>Amazon</td>\n",
       "      <td>United States</td>\n",
       "    </tr>\n",
       "    <tr>\n",
       "      <th>3</th>\n",
       "      <td>4</td>\n",
       "      <td>Larry Ellison</td>\n",
       "      <td>$127.8 B</td>\n",
       "      <td>$0M | 0.00%</td>\n",
       "      <td>78.0</td>\n",
       "      <td>Oracle</td>\n",
       "      <td>United States</td>\n",
       "    </tr>\n",
       "    <tr>\n",
       "      <th>4</th>\n",
       "      <td>5</td>\n",
       "      <td>Warren Buffett</td>\n",
       "      <td>$116.3 B</td>\n",
       "      <td>$0M | 0.00%</td>\n",
       "      <td>92.0</td>\n",
       "      <td>Berkshire Hathaway</td>\n",
       "      <td>United States</td>\n",
       "    </tr>\n",
       "  </tbody>\n",
       "</table>\n",
       "</div>"
      ],
      "text/plain": [
       "   Rank                      Name Net Worth        Change   Age  \\\n",
       "0     1  Bernard Arnault & family  $232.2 B   $0M | 0.00%  74.0   \n",
       "1     2                 Elon Musk  $184.7 B   $0M | 0.00%  51.0   \n",
       "2     3                Jeff Bezos  $139.1 B   $0M | 0.00%  59.0   \n",
       "3     4             Larry Ellison  $127.8 B   $0M | 0.00%  78.0   \n",
       "4     5            Warren Buffett  $116.3 B   $0M | 0.00%  92.0   \n",
       "\n",
       "               Source Country/Territory  \n",
       "0                LVMH            France  \n",
       "1       Tesla, SpaceX     United States  \n",
       "2              Amazon     United States  \n",
       "3              Oracle     United States  \n",
       "4  Berkshire Hathaway     United States  "
      ]
     },
     "execution_count": 2,
     "metadata": {},
     "output_type": "execute_result"
    }
   ],
   "source": [
    "df = pd.read_excel('Billionaires.xlsx')\n",
    "df.head()"
   ]
  },
  {
   "cell_type": "markdown",
   "id": "642d643a",
   "metadata": {},
   "source": [
    "### Tratamento dos dados"
   ]
  },
  {
   "cell_type": "code",
   "execution_count": 3,
   "id": "a0a25a70",
   "metadata": {},
   "outputs": [],
   "source": [
    "traducoes = {\n",
    "    'Rank': 'Classificacao',\n",
    "    'Name': 'Nome',\n",
    "    'Net Worth': 'Patrimonio_Liquido',\n",
    "    'Change': 'Variaçao',\n",
    "    'Age': 'Idade',\n",
    "    'Source': 'Origem',\n",
    "    'Country/Territory': 'Pais_Territorio'\n",
    "}\n",
    "df.rename(columns=traducoes, inplace= True)"
   ]
  },
  {
   "cell_type": "markdown",
   "id": "c233d4ad",
   "metadata": {},
   "source": [
    "Como não vamos utilizar a coluna de variação, vamos removê-la"
   ]
  },
  {
   "cell_type": "code",
   "execution_count": 4,
   "id": "3f8a3d30",
   "metadata": {},
   "outputs": [],
   "source": [
    "df.drop(columns='Variaçao', axis= 1, inplace= True)"
   ]
  },
  {
   "cell_type": "code",
   "execution_count": 5,
   "id": "0d09e856",
   "metadata": {},
   "outputs": [
    {
     "name": "stdout",
     "output_type": "stream",
     "text": [
      "<class 'pandas.core.frame.DataFrame'>\n",
      "RangeIndex: 500 entries, 0 to 499\n",
      "Data columns (total 6 columns):\n",
      " #   Column              Non-Null Count  Dtype  \n",
      "---  ------              --------------  -----  \n",
      " 0   Classificacao       500 non-null    int64  \n",
      " 1   Nome                500 non-null    object \n",
      " 2   Patrimonio_Liquido  500 non-null    object \n",
      " 3   Idade               493 non-null    float64\n",
      " 4   Origem              500 non-null    object \n",
      " 5   Pais_Territorio     500 non-null    object \n",
      "dtypes: float64(1), int64(1), object(4)\n",
      "memory usage: 23.6+ KB\n"
     ]
    }
   ],
   "source": [
    "df.info()"
   ]
  },
  {
   "cell_type": "markdown",
   "id": "e4e90dfa",
   "metadata": {},
   "source": [
    "Na coluna 'Idade', existem alguns valores ausentes."
   ]
  },
  {
   "cell_type": "code",
   "execution_count": 6,
   "id": "6395b1a1",
   "metadata": {},
   "outputs": [
    {
     "data": {
      "text/html": [
       "<div>\n",
       "<style scoped>\n",
       "    .dataframe tbody tr th:only-of-type {\n",
       "        vertical-align: middle;\n",
       "    }\n",
       "\n",
       "    .dataframe tbody tr th {\n",
       "        vertical-align: top;\n",
       "    }\n",
       "\n",
       "    .dataframe thead th {\n",
       "        text-align: right;\n",
       "    }\n",
       "</style>\n",
       "<table border=\"1\" class=\"dataframe\">\n",
       "  <thead>\n",
       "    <tr style=\"text-align: right;\">\n",
       "      <th></th>\n",
       "      <th>Classificacao</th>\n",
       "      <th>Nome</th>\n",
       "      <th>Patrimonio_Liquido</th>\n",
       "      <th>Idade</th>\n",
       "      <th>Origem</th>\n",
       "      <th>Pais_Territorio</th>\n",
       "    </tr>\n",
       "  </thead>\n",
       "  <tbody>\n",
       "    <tr>\n",
       "      <th>100</th>\n",
       "      <td>101</td>\n",
       "      <td>Karl Albrecht Jr. &amp; family</td>\n",
       "      <td>$16.4 B</td>\n",
       "      <td>NaN</td>\n",
       "      <td>Supermarkets</td>\n",
       "      <td>Germany</td>\n",
       "    </tr>\n",
       "    <tr>\n",
       "      <th>101</th>\n",
       "      <td>102</td>\n",
       "      <td>Beate Heister</td>\n",
       "      <td>$16.4 B</td>\n",
       "      <td>NaN</td>\n",
       "      <td>Supermarkets</td>\n",
       "      <td>Germany</td>\n",
       "    </tr>\n",
       "    <tr>\n",
       "      <th>244</th>\n",
       "      <td>245</td>\n",
       "      <td>Francine von Finck &amp; family</td>\n",
       "      <td>$8.4 B</td>\n",
       "      <td>NaN</td>\n",
       "      <td>Investments</td>\n",
       "      <td>Germany</td>\n",
       "    </tr>\n",
       "    <tr>\n",
       "      <th>424</th>\n",
       "      <td>425</td>\n",
       "      <td>Douglas Leone</td>\n",
       "      <td>$6.2 B</td>\n",
       "      <td>NaN</td>\n",
       "      <td>Venture capital</td>\n",
       "      <td>United States</td>\n",
       "    </tr>\n",
       "    <tr>\n",
       "      <th>448</th>\n",
       "      <td>449</td>\n",
       "      <td>Zhou Qunfei</td>\n",
       "      <td>$5.9 B</td>\n",
       "      <td>NaN</td>\n",
       "      <td>Smartphone screens</td>\n",
       "      <td>Hong Kong</td>\n",
       "    </tr>\n",
       "    <tr>\n",
       "      <th>473</th>\n",
       "      <td>474</td>\n",
       "      <td>Vinod Khosla</td>\n",
       "      <td>$5.6 B</td>\n",
       "      <td>NaN</td>\n",
       "      <td>Venture capital</td>\n",
       "      <td>United States</td>\n",
       "    </tr>\n",
       "    <tr>\n",
       "      <th>487</th>\n",
       "      <td>488</td>\n",
       "      <td>Marcos Galperin</td>\n",
       "      <td>$5.5 B</td>\n",
       "      <td>NaN</td>\n",
       "      <td>E-commerce</td>\n",
       "      <td>Argentina</td>\n",
       "    </tr>\n",
       "  </tbody>\n",
       "</table>\n",
       "</div>"
      ],
      "text/plain": [
       "     Classificacao                         Nome Patrimonio_Liquido  Idade  \\\n",
       "100            101   Karl Albrecht Jr. & family            $16.4 B    NaN   \n",
       "101            102                Beate Heister            $16.4 B    NaN   \n",
       "244            245  Francine von Finck & family             $8.4 B    NaN   \n",
       "424            425                Douglas Leone             $6.2 B    NaN   \n",
       "448            449                  Zhou Qunfei             $5.9 B    NaN   \n",
       "473            474                 Vinod Khosla             $5.6 B    NaN   \n",
       "487            488              Marcos Galperin             $5.5 B    NaN   \n",
       "\n",
       "                 Origem Pais_Territorio  \n",
       "100        Supermarkets         Germany  \n",
       "101        Supermarkets         Germany  \n",
       "244         Investments         Germany  \n",
       "424     Venture capital   United States  \n",
       "448  Smartphone screens       Hong Kong  \n",
       "473     Venture capital   United States  \n",
       "487          E-commerce       Argentina  "
      ]
     },
     "execution_count": 6,
     "metadata": {},
     "output_type": "execute_result"
    }
   ],
   "source": [
    "df[df['Idade'].isnull()]"
   ]
  },
  {
   "cell_type": "code",
   "execution_count": 7,
   "id": "64092a5a",
   "metadata": {},
   "outputs": [],
   "source": [
    "#Através de uma breve pesquisa, consegui identificar os valores ausentes na coluna 'Idades'.\n",
    "idades = [75, 72, 55, 66, 53, 68, 51]\n",
    "indices_nulos = df[df['Idade'].isnull()].index\n",
    "df.loc[indices_nulos, 'Idade'] = idades"
   ]
  },
  {
   "cell_type": "code",
   "execution_count": 8,
   "id": "0a8cabeb",
   "metadata": {},
   "outputs": [
    {
     "data": {
      "text/html": [
       "<div>\n",
       "<style scoped>\n",
       "    .dataframe tbody tr th:only-of-type {\n",
       "        vertical-align: middle;\n",
       "    }\n",
       "\n",
       "    .dataframe tbody tr th {\n",
       "        vertical-align: top;\n",
       "    }\n",
       "\n",
       "    .dataframe thead th {\n",
       "        text-align: right;\n",
       "    }\n",
       "</style>\n",
       "<table border=\"1\" class=\"dataframe\">\n",
       "  <thead>\n",
       "    <tr style=\"text-align: right;\">\n",
       "      <th></th>\n",
       "      <th>Classificacao</th>\n",
       "      <th>Nome</th>\n",
       "      <th>Patrimonio_Liquido</th>\n",
       "      <th>Idade</th>\n",
       "      <th>Origem</th>\n",
       "      <th>Pais_Territorio</th>\n",
       "    </tr>\n",
       "  </thead>\n",
       "  <tbody>\n",
       "  </tbody>\n",
       "</table>\n",
       "</div>"
      ],
      "text/plain": [
       "Empty DataFrame\n",
       "Columns: [Classificacao, Nome, Patrimonio_Liquido, Idade, Origem, Pais_Territorio]\n",
       "Index: []"
      ]
     },
     "execution_count": 8,
     "metadata": {},
     "output_type": "execute_result"
    }
   ],
   "source": [
    "df[df['Idade'].isnull()]"
   ]
  },
  {
   "cell_type": "code",
   "execution_count": 9,
   "id": "ca716aa9",
   "metadata": {},
   "outputs": [
    {
     "name": "stdout",
     "output_type": "stream",
     "text": [
      "<class 'pandas.core.frame.DataFrame'>\n",
      "RangeIndex: 500 entries, 0 to 499\n",
      "Data columns (total 6 columns):\n",
      " #   Column              Non-Null Count  Dtype  \n",
      "---  ------              --------------  -----  \n",
      " 0   Classificacao       500 non-null    int64  \n",
      " 1   Nome                500 non-null    object \n",
      " 2   Patrimonio_Liquido  500 non-null    object \n",
      " 3   Idade               500 non-null    float64\n",
      " 4   Origem              500 non-null    object \n",
      " 5   Pais_Territorio     500 non-null    object \n",
      "dtypes: float64(1), int64(1), object(4)\n",
      "memory usage: 23.6+ KB\n"
     ]
    },
    {
     "data": {
      "text/html": [
       "<div>\n",
       "<style scoped>\n",
       "    .dataframe tbody tr th:only-of-type {\n",
       "        vertical-align: middle;\n",
       "    }\n",
       "\n",
       "    .dataframe tbody tr th {\n",
       "        vertical-align: top;\n",
       "    }\n",
       "\n",
       "    .dataframe thead th {\n",
       "        text-align: right;\n",
       "    }\n",
       "</style>\n",
       "<table border=\"1\" class=\"dataframe\">\n",
       "  <thead>\n",
       "    <tr style=\"text-align: right;\">\n",
       "      <th></th>\n",
       "      <th>Classificacao</th>\n",
       "      <th>Nome</th>\n",
       "      <th>Patrimonio_Liquido</th>\n",
       "      <th>Idade</th>\n",
       "      <th>Origem</th>\n",
       "      <th>Pais_Territorio</th>\n",
       "    </tr>\n",
       "  </thead>\n",
       "  <tbody>\n",
       "    <tr>\n",
       "      <th>0</th>\n",
       "      <td>1</td>\n",
       "      <td>Bernard Arnault &amp; family</td>\n",
       "      <td>$232.2 B</td>\n",
       "      <td>74.0</td>\n",
       "      <td>LVMH</td>\n",
       "      <td>France</td>\n",
       "    </tr>\n",
       "    <tr>\n",
       "      <th>1</th>\n",
       "      <td>2</td>\n",
       "      <td>Elon Musk</td>\n",
       "      <td>$184.7 B</td>\n",
       "      <td>51.0</td>\n",
       "      <td>Tesla, SpaceX</td>\n",
       "      <td>United States</td>\n",
       "    </tr>\n",
       "    <tr>\n",
       "      <th>2</th>\n",
       "      <td>3</td>\n",
       "      <td>Jeff Bezos</td>\n",
       "      <td>$139.1 B</td>\n",
       "      <td>59.0</td>\n",
       "      <td>Amazon</td>\n",
       "      <td>United States</td>\n",
       "    </tr>\n",
       "    <tr>\n",
       "      <th>3</th>\n",
       "      <td>4</td>\n",
       "      <td>Larry Ellison</td>\n",
       "      <td>$127.8 B</td>\n",
       "      <td>78.0</td>\n",
       "      <td>Oracle</td>\n",
       "      <td>United States</td>\n",
       "    </tr>\n",
       "    <tr>\n",
       "      <th>4</th>\n",
       "      <td>5</td>\n",
       "      <td>Warren Buffett</td>\n",
       "      <td>$116.3 B</td>\n",
       "      <td>92.0</td>\n",
       "      <td>Berkshire Hathaway</td>\n",
       "      <td>United States</td>\n",
       "    </tr>\n",
       "  </tbody>\n",
       "</table>\n",
       "</div>"
      ],
      "text/plain": [
       "   Classificacao                      Nome Patrimonio_Liquido  Idade  \\\n",
       "0              1  Bernard Arnault & family           $232.2 B   74.0   \n",
       "1              2                 Elon Musk           $184.7 B   51.0   \n",
       "2              3                Jeff Bezos           $139.1 B   59.0   \n",
       "3              4             Larry Ellison           $127.8 B   78.0   \n",
       "4              5            Warren Buffett           $116.3 B   92.0   \n",
       "\n",
       "               Origem Pais_Territorio  \n",
       "0                LVMH          France  \n",
       "1       Tesla, SpaceX   United States  \n",
       "2              Amazon   United States  \n",
       "3              Oracle   United States  \n",
       "4  Berkshire Hathaway   United States  "
      ]
     },
     "execution_count": 9,
     "metadata": {},
     "output_type": "execute_result"
    }
   ],
   "source": [
    "df.info()\n",
    "df.head()"
   ]
  },
  {
   "cell_type": "markdown",
   "id": "a09f9cba",
   "metadata": {},
   "source": [
    "Realizando a conversão de 'object' para 'float'."
   ]
  },
  {
   "cell_type": "code",
   "execution_count": 10,
   "id": "e7153fe8",
   "metadata": {},
   "outputs": [],
   "source": [
    "# Aqui, estamos convertendo a coluna 'Patrimonio_Liquido' para float, removendo caracteres não numéricos,\n",
    "# para garantir que possamos realizar operações numéricas posteriormente.\n",
    "df['Patrimonio_Liquido'] = df['Patrimonio_Liquido'].apply(lambda x:x.replace('$', '')).apply(lambda x:x.replace('B','')).astype(float)\n",
    "df['Idade'] = df['Idade'].astype(int)"
   ]
  },
  {
   "cell_type": "code",
   "execution_count": 11,
   "id": "d3abb09c",
   "metadata": {},
   "outputs": [
    {
     "data": {
      "text/html": [
       "<div>\n",
       "<style scoped>\n",
       "    .dataframe tbody tr th:only-of-type {\n",
       "        vertical-align: middle;\n",
       "    }\n",
       "\n",
       "    .dataframe tbody tr th {\n",
       "        vertical-align: top;\n",
       "    }\n",
       "\n",
       "    .dataframe thead th {\n",
       "        text-align: right;\n",
       "    }\n",
       "</style>\n",
       "<table border=\"1\" class=\"dataframe\">\n",
       "  <thead>\n",
       "    <tr style=\"text-align: right;\">\n",
       "      <th></th>\n",
       "      <th>Classificacao</th>\n",
       "      <th>Nome</th>\n",
       "      <th>Patrimonio_Liquido</th>\n",
       "      <th>Idade</th>\n",
       "      <th>Origem</th>\n",
       "      <th>Pais_Territorio</th>\n",
       "    </tr>\n",
       "  </thead>\n",
       "  <tbody>\n",
       "    <tr>\n",
       "      <th>0</th>\n",
       "      <td>1</td>\n",
       "      <td>Bernard Arnault &amp; family</td>\n",
       "      <td>232.2</td>\n",
       "      <td>74</td>\n",
       "      <td>LVMH</td>\n",
       "      <td>France</td>\n",
       "    </tr>\n",
       "    <tr>\n",
       "      <th>1</th>\n",
       "      <td>2</td>\n",
       "      <td>Elon Musk</td>\n",
       "      <td>184.7</td>\n",
       "      <td>51</td>\n",
       "      <td>Tesla, SpaceX</td>\n",
       "      <td>United States</td>\n",
       "    </tr>\n",
       "    <tr>\n",
       "      <th>2</th>\n",
       "      <td>3</td>\n",
       "      <td>Jeff Bezos</td>\n",
       "      <td>139.1</td>\n",
       "      <td>59</td>\n",
       "      <td>Amazon</td>\n",
       "      <td>United States</td>\n",
       "    </tr>\n",
       "    <tr>\n",
       "      <th>3</th>\n",
       "      <td>4</td>\n",
       "      <td>Larry Ellison</td>\n",
       "      <td>127.8</td>\n",
       "      <td>78</td>\n",
       "      <td>Oracle</td>\n",
       "      <td>United States</td>\n",
       "    </tr>\n",
       "    <tr>\n",
       "      <th>4</th>\n",
       "      <td>5</td>\n",
       "      <td>Warren Buffett</td>\n",
       "      <td>116.3</td>\n",
       "      <td>92</td>\n",
       "      <td>Berkshire Hathaway</td>\n",
       "      <td>United States</td>\n",
       "    </tr>\n",
       "  </tbody>\n",
       "</table>\n",
       "</div>"
      ],
      "text/plain": [
       "   Classificacao                      Nome  Patrimonio_Liquido  Idade  \\\n",
       "0              1  Bernard Arnault & family               232.2     74   \n",
       "1              2                 Elon Musk               184.7     51   \n",
       "2              3                Jeff Bezos               139.1     59   \n",
       "3              4             Larry Ellison               127.8     78   \n",
       "4              5            Warren Buffett               116.3     92   \n",
       "\n",
       "               Origem Pais_Territorio  \n",
       "0                LVMH          France  \n",
       "1       Tesla, SpaceX   United States  \n",
       "2              Amazon   United States  \n",
       "3              Oracle   United States  \n",
       "4  Berkshire Hathaway   United States  "
      ]
     },
     "execution_count": 11,
     "metadata": {},
     "output_type": "execute_result"
    }
   ],
   "source": [
    "df.head()"
   ]
  },
  {
   "cell_type": "markdown",
   "id": "96776bcb",
   "metadata": {},
   "source": [
    "O nosso DataFrame está pronto para abordar algumas questões."
   ]
  },
  {
   "cell_type": "markdown",
   "id": "f68fbb50",
   "metadata": {},
   "source": [
    "### A primeira pergunta que abordaremos é: quem são os 10 bilionários mais ricos de 2023?"
   ]
  },
  {
   "cell_type": "code",
   "execution_count": 12,
   "id": "1624f810",
   "metadata": {},
   "outputs": [
    {
     "data": {
      "text/html": [
       "<div>\n",
       "<style scoped>\n",
       "    .dataframe tbody tr th:only-of-type {\n",
       "        vertical-align: middle;\n",
       "    }\n",
       "\n",
       "    .dataframe tbody tr th {\n",
       "        vertical-align: top;\n",
       "    }\n",
       "\n",
       "    .dataframe thead th {\n",
       "        text-align: right;\n",
       "    }\n",
       "</style>\n",
       "<table border=\"1\" class=\"dataframe\">\n",
       "  <thead>\n",
       "    <tr style=\"text-align: right;\">\n",
       "      <th></th>\n",
       "      <th>Nome</th>\n",
       "      <th>Patrimonio_Liquido</th>\n",
       "    </tr>\n",
       "  </thead>\n",
       "  <tbody>\n",
       "    <tr>\n",
       "      <th>0</th>\n",
       "      <td>Bernard Arnault &amp; family</td>\n",
       "      <td>232.2</td>\n",
       "    </tr>\n",
       "    <tr>\n",
       "      <th>1</th>\n",
       "      <td>Elon Musk</td>\n",
       "      <td>184.7</td>\n",
       "    </tr>\n",
       "    <tr>\n",
       "      <th>2</th>\n",
       "      <td>Jeff Bezos</td>\n",
       "      <td>139.1</td>\n",
       "    </tr>\n",
       "    <tr>\n",
       "      <th>3</th>\n",
       "      <td>Larry Ellison</td>\n",
       "      <td>127.8</td>\n",
       "    </tr>\n",
       "    <tr>\n",
       "      <th>4</th>\n",
       "      <td>Warren Buffett</td>\n",
       "      <td>116.3</td>\n",
       "    </tr>\n",
       "    <tr>\n",
       "      <th>5</th>\n",
       "      <td>Bill Gates</td>\n",
       "      <td>114.3</td>\n",
       "    </tr>\n",
       "    <tr>\n",
       "      <th>6</th>\n",
       "      <td>Larry Page</td>\n",
       "      <td>104.2</td>\n",
       "    </tr>\n",
       "    <tr>\n",
       "      <th>7</th>\n",
       "      <td>Sergey Brin</td>\n",
       "      <td>99.1</td>\n",
       "    </tr>\n",
       "    <tr>\n",
       "      <th>8</th>\n",
       "      <td>Steve Ballmer</td>\n",
       "      <td>98.4</td>\n",
       "    </tr>\n",
       "    <tr>\n",
       "      <th>9</th>\n",
       "      <td>Carlos Slim Helu &amp; family</td>\n",
       "      <td>97.3</td>\n",
       "    </tr>\n",
       "  </tbody>\n",
       "</table>\n",
       "</div>"
      ],
      "text/plain": [
       "                        Nome  Patrimonio_Liquido\n",
       "0   Bernard Arnault & family               232.2\n",
       "1                  Elon Musk               184.7\n",
       "2                 Jeff Bezos               139.1\n",
       "3              Larry Ellison               127.8\n",
       "4             Warren Buffett               116.3\n",
       "5                 Bill Gates               114.3\n",
       "6                 Larry Page               104.2\n",
       "7                Sergey Brin                99.1\n",
       "8              Steve Ballmer                98.4\n",
       "9  Carlos Slim Helu & family                97.3"
      ]
     },
     "execution_count": 12,
     "metadata": {},
     "output_type": "execute_result"
    }
   ],
   "source": [
    "sort = df[['Nome','Patrimonio_Liquido']][:10].sort_values(by='Patrimonio_Liquido',ascending=True)\n",
    "sort.sort_values(by='Patrimonio_Liquido', ascending = False)"
   ]
  },
  {
   "cell_type": "code",
   "execution_count": 13,
   "id": "4c8fd546",
   "metadata": {},
   "outputs": [
    {
     "data": {
      "image/png": "[encoded data removed]",
      "text/plain": [
       "<Figure size 800x500 with 1 Axes>"
      ]
     },
     "metadata": {},
     "output_type": "display_data"
    }
   ],
   "source": [
    "def autolabel(grupos):\n",
    "    for i in grupos:\n",
    "        width = i.get_width()  \n",
    "        plt.text(width + 1, i.get_y() + i.get_height()/2, f'${width}',  \n",
    "                 va='center', ha='left', color='black', fontsize=10)\n",
    "        \n",
    "fig, ax = plt.subplots(figsize=(8,5))\n",
    "plt.barh(sort['Nome'], sort['Patrimonio_Liquido'],color='#A9A9A9')\n",
    "ax.set_title('Top 10 Bilionários 2023')\n",
    "ax.set_xlabel('Patrimônio líquido')\n",
    "[s.set_visible(False) for s in ax.spines.values()]\n",
    "plt.grid(False)\n",
    "autolabel(plt.gca().patches)\n",
    "plt.tight_layout()"
   ]
  },
  {
   "cell_type": "markdown",
   "id": "1d5c2726",
   "metadata": {},
   "source": [
    "Esta análise nos fornece uma visão clara dos bilionários mais ricos em 2023, com Bernard Arnault & family liderando a lista com um patrimônio líquido impressionante de $232.2 bilhões, seguido por Elon Musk e Jeff Bezos. A diferença entre o primeiro e o último colocado é notável, o que destaca a disparidade de riqueza entre os bilionários mais ricos do mundo."
   ]
  },
  {
   "cell_type": "markdown",
   "id": "53900dc5",
   "metadata": {},
   "source": [
    "### Qual é a distribuição de idades dos bilionários nesta lista?"
   ]
  },
  {
   "cell_type": "code",
   "execution_count": 14,
   "id": "e933ea39",
   "metadata": {},
   "outputs": [
    {
     "data": {
      "text/plain": [
       "count    500.00000\n",
       "mean      67.62400\n",
       "std       13.52392\n",
       "min       31.00000\n",
       "25%       58.00000\n",
       "50%       68.00000\n",
       "75%       77.00000\n",
       "max       99.00000\n",
       "Name: Idade, dtype: float64"
      ]
     },
     "execution_count": 14,
     "metadata": {},
     "output_type": "execute_result"
    }
   ],
   "source": [
    "df.Idade.describe()"
   ]
  },
  {
   "cell_type": "code",
   "execution_count": 15,
   "id": "deda789c",
   "metadata": {},
   "outputs": [
    {
     "data": {
      "text/plain": [
       "Text(0.5, 0, 'Idades')"
      ]
     },
     "execution_count": 15,
     "metadata": {},
     "output_type": "execute_result"
    },
    {
     "data": {
      "image/png": "[encoded data removed]",
      "text/plain": [
       "<Figure size 800x500 with 1 Axes>"
      ]
     },
     "metadata": {},
     "output_type": "display_data"
    }
   ],
   "source": [
    "fig, ax2 = plt.subplots(figsize=(8,5))\n",
    "plt.hist(df.Idade, color='skyblue', edgecolor='black', alpha=0.7)\n",
    "ax2.set_title('Distribuição de idade dos Bilionários')\n",
    "[s.set_visible(False) for s in ax2.spines.values()]\n",
    "plt.grid(False)\n",
    "ax2.set_ylabel('Frequência')\n",
    "ax2.set_xlabel('Idades')"
   ]
  },
  {
   "cell_type": "markdown",
   "id": "dc79628e",
   "metadata": {},
   "source": [
    "Em resumo, nossas estatísticas indicam que a idade dos bilionários no conjunto de dados varia consideravelmente, com uma média em torno dos 67.6 anos. A maioria dos bilionários está na faixa entre 58 e 77 anos, com o bilionário mais jovem tendo 31 anos e o mais velho 99 anos."
   ]
  },
  {
   "cell_type": "markdown",
   "id": "c8cfc3f3",
   "metadata": {},
   "source": [
    "### Qual é a nacionalidade predominante entre os bilionários nesta lista?"
   ]
  },
  {
   "cell_type": "code",
   "execution_count": 16,
   "id": "1e50d4de",
   "metadata": {},
   "outputs": [],
   "source": [
    "b_pais = df.groupby('Pais_Territorio').size().sort_values(ascending=False)\n",
    "b_pais = b_pais.to_frame()\n",
    "b_pais = b_pais[:10]\n",
    "b_pais = b_pais.sort_values(by= 0, ascending = True)"
   ]
  },
  {
   "cell_type": "code",
   "execution_count": 17,
   "id": "f250203c",
   "metadata": {},
   "outputs": [
    {
     "data": {
      "text/html": [
       "<div>\n",
       "<style scoped>\n",
       "    .dataframe tbody tr th:only-of-type {\n",
       "        vertical-align: middle;\n",
       "    }\n",
       "\n",
       "    .dataframe tbody tr th {\n",
       "        vertical-align: top;\n",
       "    }\n",
       "\n",
       "    .dataframe thead th {\n",
       "        text-align: right;\n",
       "    }\n",
       "</style>\n",
       "<table border=\"1\" class=\"dataframe\">\n",
       "  <thead>\n",
       "    <tr style=\"text-align: right;\">\n",
       "      <th></th>\n",
       "      <th>0</th>\n",
       "    </tr>\n",
       "    <tr>\n",
       "      <th>Pais_Territorio</th>\n",
       "      <th></th>\n",
       "    </tr>\n",
       "  </thead>\n",
       "  <tbody>\n",
       "    <tr>\n",
       "      <th>United States</th>\n",
       "      <td>180</td>\n",
       "    </tr>\n",
       "    <tr>\n",
       "      <th>China</th>\n",
       "      <td>58</td>\n",
       "    </tr>\n",
       "    <tr>\n",
       "      <th>Germany</th>\n",
       "      <td>26</td>\n",
       "    </tr>\n",
       "    <tr>\n",
       "      <th>Russia</th>\n",
       "      <td>24</td>\n",
       "    </tr>\n",
       "    <tr>\n",
       "      <th>India</th>\n",
       "      <td>23</td>\n",
       "    </tr>\n",
       "    <tr>\n",
       "      <th>France</th>\n",
       "      <td>18</td>\n",
       "    </tr>\n",
       "    <tr>\n",
       "      <th>Hong Kong</th>\n",
       "      <td>17</td>\n",
       "    </tr>\n",
       "    <tr>\n",
       "      <th>United Kingdom</th>\n",
       "      <td>12</td>\n",
       "    </tr>\n",
       "    <tr>\n",
       "      <th>Switzerland</th>\n",
       "      <td>11</td>\n",
       "    </tr>\n",
       "    <tr>\n",
       "      <th>Canada</th>\n",
       "      <td>10</td>\n",
       "    </tr>\n",
       "  </tbody>\n",
       "</table>\n",
       "</div>"
      ],
      "text/plain": [
       "                   0\n",
       "Pais_Territorio     \n",
       "United States    180\n",
       "China             58\n",
       "Germany           26\n",
       "Russia            24\n",
       "India             23\n",
       "France            18\n",
       "Hong Kong         17\n",
       "United Kingdom    12\n",
       "Switzerland       11\n",
       "Canada            10"
      ]
     },
     "execution_count": 17,
     "metadata": {},
     "output_type": "execute_result"
    }
   ],
   "source": [
    "b_pais.head(10).sort_values(by = 0, ascending = False)"
   ]
  },
  {
   "cell_type": "code",
   "execution_count": 18,
   "id": "0a3a1b8b",
   "metadata": {},
   "outputs": [
    {
     "data": {
      "image/png": "[encoded data removed]",
      "text/plain": [
       "<Figure size 800x500 with 1 Axes>"
      ]
     },
     "metadata": {},
     "output_type": "display_data"
    }
   ],
   "source": [
    "def autolabel2(grupos):\n",
    "    for i in grupos:\n",
    "        width = i.get_width()  \n",
    "        plt.text(width + 1, i.get_y() + i.get_height()/2, f'{width}',  \n",
    "                 va='center', ha='left', color='black', fontsize=10)\n",
    "fig, ax3 = plt.subplots(figsize=(8,5))\n",
    "plt.barh(b_pais.index,b_pais[0],edgecolor='black', alpha=0.7)\n",
    "[s.set_visible(False) for s in ax3.spines.values()]\n",
    "plt.grid(False)\n",
    "ax3.set_title('Nacionalidade Predominante Entre os Bilionários')\n",
    "ax3.set_ylabel('Nacionalidade')\n",
    "ax3.set_xlabel('Número de Bilionários')\n",
    "autolabel2(plt.gca().patches)\n",
    "plt.tight_layout()"
   ]
  },
  {
   "cell_type": "markdown",
   "id": "90fcdff2",
   "metadata": {},
   "source": [
    "Com base na minha análise, os Estados Unidos lideram com uma quantidade significativamente maior de bilionários, totalizando 180. Em segundo lugar, está a China com 58 bilionários, seguida pela Alemanha com 26. Esses dados indicam uma clara disparidade na distribuição de bilionários ao redor do mundo, com os Estados Unidos ocupando uma posição de destaque."
   ]
  },
  {
   "cell_type": "markdown",
   "id": "2ab8adcf",
   "metadata": {},
   "source": [
    "### Existe alguma correlação entre a idade dos bilionários e a sua fortuna?"
   ]
  },
  {
   "cell_type": "code",
   "execution_count": 19,
   "id": "bc920cf4",
   "metadata": {},
   "outputs": [
    {
     "data": {
      "text/plain": [
       "array([[1.      , 0.024261],\n",
       "       [0.024261, 1.      ]])"
      ]
     },
     "execution_count": 19,
     "metadata": {},
     "output_type": "execute_result"
    }
   ],
   "source": [
    "np.corrcoef(df.Idade, df.Patrimonio_Liquido)"
   ]
  },
  {
   "cell_type": "code",
   "execution_count": 20,
   "id": "c37ff12c",
   "metadata": {},
   "outputs": [
    {
     "data": {
      "text/plain": [
       "Text(0, 0.5, 'Patrimônio Líquido (Bilhões de Dólares)')"
      ]
     },
     "execution_count": 20,
     "metadata": {},
     "output_type": "execute_result"
    },
    {
     "data": {
      "image/png": "[encoded data removed]",
      "text/plain": [
       "<Figure size 640x480 with 1 Axes>"
      ]
     },
     "metadata": {},
     "output_type": "display_data"
    }
   ],
   "source": [
    "fig, ax4 = plt.subplots()\n",
    "plt.scatter(x=df['Idade'], y=df['Patrimonio_Liquido'],color ='#2ca02c', edgecolor='black', alpha=0.9)\n",
    "[s.set_visible(False) for s in ax4.spines.values()]\n",
    "plt.grid(False)\n",
    "ax4.set_title('Correlação entre idade e Fortuna')\n",
    "ax4.set_xlabel('Idade')\n",
    "ax4.set_ylabel('Patrimônio Líquido (Bilhões de Dólares)')"
   ]
  },
  {
   "cell_type": "markdown",
   "id": "9e3cc783",
   "metadata": {},
   "source": [
    "A análise da correlação entre a idade dos bilionários e o seu patrimônio líquido revelou um coeficiente de correlação extremamente baixo, de aproximadamente 0.024. Esse valor sugere que, na amostra analisada, não existe uma correlação linear significativa entre a idade e a fortuna dos bilionários. É importante ressaltar que correlação não implica causalidade. Ou seja, outros fatores podem influenciar a fortuna de um bilionário, além da idade."
   ]
  },
  {
   "cell_type": "markdown",
   "id": "29ef610f",
   "metadata": {},
   "source": [
    "### Qual é a fonte de riqueza mais comum entre os bilionários nesta lista?"
   ]
  },
  {
   "cell_type": "code",
   "execution_count": 21,
   "id": "0a17487c",
   "metadata": {},
   "outputs": [
    {
     "name": "stdout",
     "output_type": "stream",
     "text": [
      "quantidade de origem de riquezas: 226\n"
     ]
    },
    {
     "data": {
      "text/html": [
       "<div>\n",
       "<style scoped>\n",
       "    .dataframe tbody tr th:only-of-type {\n",
       "        vertical-align: middle;\n",
       "    }\n",
       "\n",
       "    .dataframe tbody tr th {\n",
       "        vertical-align: top;\n",
       "    }\n",
       "\n",
       "    .dataframe thead th {\n",
       "        text-align: right;\n",
       "    }\n",
       "</style>\n",
       "<table border=\"1\" class=\"dataframe\">\n",
       "  <thead>\n",
       "    <tr style=\"text-align: right;\">\n",
       "      <th></th>\n",
       "      <th>count</th>\n",
       "    </tr>\n",
       "    <tr>\n",
       "      <th>Origem</th>\n",
       "      <th></th>\n",
       "    </tr>\n",
       "  </thead>\n",
       "  <tbody>\n",
       "    <tr>\n",
       "      <th>investments</th>\n",
       "      <td>41</td>\n",
       "    </tr>\n",
       "    <tr>\n",
       "      <th>real estate</th>\n",
       "      <td>40</td>\n",
       "    </tr>\n",
       "    <tr>\n",
       "      <th>hedge funds</th>\n",
       "      <td>17</td>\n",
       "    </tr>\n",
       "    <tr>\n",
       "      <th>diversified</th>\n",
       "      <td>15</td>\n",
       "    </tr>\n",
       "    <tr>\n",
       "      <th>pharmaceuticals</th>\n",
       "      <td>14</td>\n",
       "    </tr>\n",
       "    <tr>\n",
       "      <th>banking</th>\n",
       "      <td>12</td>\n",
       "    </tr>\n",
       "    <tr>\n",
       "      <th>shipping</th>\n",
       "      <td>11</td>\n",
       "    </tr>\n",
       "    <tr>\n",
       "      <th>private equity</th>\n",
       "      <td>11</td>\n",
       "    </tr>\n",
       "    <tr>\n",
       "      <th>oil</th>\n",
       "      <td>11</td>\n",
       "    </tr>\n",
       "    <tr>\n",
       "      <th>chemicals</th>\n",
       "      <td>10</td>\n",
       "    </tr>\n",
       "  </tbody>\n",
       "</table>\n",
       "</div>"
      ],
      "text/plain": [
       "                 count\n",
       "Origem                \n",
       "investments         41\n",
       "real estate         40\n",
       "hedge funds         17\n",
       "diversified         15\n",
       "pharmaceuticals     14\n",
       "banking             12\n",
       "shipping            11\n",
       "private equity      11\n",
       "oil                 11\n",
       "chemicals           10"
      ]
     },
     "execution_count": 21,
     "metadata": {},
     "output_type": "execute_result"
    }
   ],
   "source": [
    "df['Origem'] = df['Origem'].str.lower()\n",
    "df_copy = df.copy()\n",
    "df_copy['Origem'] = df_copy['Origem'].str.split(', ')\n",
    "df_copy = df_copy.explode('Origem')\n",
    "\n",
    "quantidade = df_copy['Origem'].value_counts()\n",
    "print(f'quantidade de origem de riquezas: {quantidade.index.nunique()}')\n",
    "quantidade = quantidade[:10]\n",
    "quantidade = quantidade.to_frame()\n",
    "quantidade\n",
    "quantidade = quantidade.sort_values(by='count')\n",
    "\n",
    "quantidade.sort_values(by='count', ascending = False)\n"
   ]
  },
  {
   "cell_type": "code",
   "execution_count": 22,
   "id": "34f99aa3",
   "metadata": {},
   "outputs": [
    {
     "data": {
      "image/png": "[encoded data removed]",
      "text/plain": [
       "<Figure size 800x500 with 1 Axes>"
      ]
     },
     "metadata": {},
     "output_type": "display_data"
    }
   ],
   "source": [
    "fig, ax4 = plt.subplots(figsize=(8,5))\n",
    "plt.barh(quantidade.index[:10], quantidade['count'][:10], edgecolor='black', alpha=0.7)\n",
    "\n",
    "ax4.set_title('Países com mais Bilionários')\n",
    "[s.set_visible(False) for s in ax4.spines.values()]\n",
    "plt.grid(False)\n",
    "ax4.set_title('Top 10 Empresas com Maior Patrimônio Líquido')\n",
    "ax4.set_xlabel('Patrimônio Líquido (Bilhões de Dólares)')\n",
    "ax4.set_ylabel('Empresas')\n",
    "plt.tight_layout()\n",
    "autolabel2(plt.gca().patches)"
   ]
  },
  {
   "cell_type": "markdown",
   "id": "d10e89e2",
   "metadata": {},
   "source": [
    "A análise dos dados revela que o setor de investimentos desponta como a fonte de riqueza mais comum entre os bilionários desta lista, contabilizando um impressionante total de 41 indivíduos. Em um cenário quase igualmente proeminente, o setor imobiliário, representado pela categoria 'Real estate', não fica muito atrás, com um total de 40 bilionários. Esses dados demonstram a forte influência e lucratividade desses dois setores na formação de riqueza entre os indivíduos mais abastados."
   ]
  },
  {
   "cell_type": "markdown",
   "id": "43e530fc",
   "metadata": {},
   "source": [
    "### Qual é o total do patrimônio líquido acumulado das cinco maiores origens?"
   ]
  },
  {
   "cell_type": "code",
   "execution_count": 23,
   "id": "d5c9cd00",
   "metadata": {},
   "outputs": [
    {
     "data": {
      "text/html": [
       "<div>\n",
       "<style scoped>\n",
       "    .dataframe tbody tr th:only-of-type {\n",
       "        vertical-align: middle;\n",
       "    }\n",
       "\n",
       "    .dataframe tbody tr th {\n",
       "        vertical-align: top;\n",
       "    }\n",
       "\n",
       "    .dataframe thead th {\n",
       "        text-align: right;\n",
       "    }\n",
       "</style>\n",
       "<table border=\"1\" class=\"dataframe\">\n",
       "  <thead>\n",
       "    <tr style=\"text-align: right;\">\n",
       "      <th></th>\n",
       "      <th>Patrimonio_Liquido</th>\n",
       "    </tr>\n",
       "    <tr>\n",
       "      <th>Origem</th>\n",
       "      <th></th>\n",
       "    </tr>\n",
       "  </thead>\n",
       "  <tbody>\n",
       "    <tr>\n",
       "      <th>real estate</th>\n",
       "      <td>385.2</td>\n",
       "    </tr>\n",
       "    <tr>\n",
       "      <th>investments</th>\n",
       "      <td>368.0</td>\n",
       "    </tr>\n",
       "    <tr>\n",
       "      <th>google</th>\n",
       "      <td>242.6</td>\n",
       "    </tr>\n",
       "    <tr>\n",
       "      <th>walmart</th>\n",
       "      <td>236.4</td>\n",
       "    </tr>\n",
       "    <tr>\n",
       "      <th>diversified</th>\n",
       "      <td>235.0</td>\n",
       "    </tr>\n",
       "  </tbody>\n",
       "</table>\n",
       "</div>"
      ],
      "text/plain": [
       "             Patrimonio_Liquido\n",
       "Origem                         \n",
       "real estate               385.2\n",
       "investments               368.0\n",
       "google                    242.6\n",
       "walmart                   236.4\n",
       "diversified               235.0"
      ]
     },
     "execution_count": 23,
     "metadata": {},
     "output_type": "execute_result"
    }
   ],
   "source": [
    "tot_origem = df_copy.groupby('Origem')['Patrimonio_Liquido'].sum().sort_values(ascending=False)\n",
    "tot_origem = tot_origem.to_frame()\n",
    "tot_origem = tot_origem[:5].sort_values(by = 'Patrimonio_Liquido', ascending=True)\n",
    "tot_origem.sort_values(by='Patrimonio_Liquido').sort_values(by='Patrimonio_Liquido', ascending = False)"
   ]
  },
  {
   "cell_type": "code",
   "execution_count": 31,
   "id": "19fb3a7b",
   "metadata": {},
   "outputs": [
    {
     "data": {
      "image/png": "[encoded data removed]",
      "text/plain": [
       "<Figure size 800x500 with 1 Axes>"
      ]
     },
     "metadata": {},
     "output_type": "display_data"
    }
   ],
   "source": [
    "fig, ax5 = plt.subplots(figsize=(8,5))\n",
    "plt.barh(tot_origem.index, tot_origem['Patrimonio_Liquido'], edgecolor='black', alpha = 0.7, color='skyblue')\n",
    "[s.set_visible(False) for s in ax5.spines.values()]\n",
    "plt.grid(False)\n",
    "ax4.set_title('Top 10 Empresas com Maior Patrimônio Líquido')\n",
    "ax4.set_xlabel('Patrimônio Líquido (Bilhões de Dólares)')\n",
    "autolabel(plt.gca().patches)"
   ]
  },
  {
   "cell_type": "markdown",
   "id": "2139fe3e",
   "metadata": {},
   "source": [
    "Aqui estão os cinco setores com os maiores patrimônios líquidos acumulados:\n",
    "\n",
    "1. **Real Estate (Setor Imobiliário):** Com um notável total de \\$385.2 bilhões, o setor imobiliário lidera a lista. Esta indústria mostra a força do investimento em propriedades e desenvolvimento imobiliário.\n",
    "\n",
    "2. **Investimentos:** Seguindo de perto, o setor de investimentos apresenta um impressionante total de \\$368 bilhões. Isso reflete a diversidade de oportunidades e estratégias de investimento disponíveis.\n",
    "\n",
    "3. **Google (Tecnologia):** Demonstrando a influência da tecnologia, o gigante Google contribui com um considerável \\$242.6 bilhões. Isso destaca o valor dos serviços e produtos tecnológicos em nosso mundo moderno.\n",
    "\n",
    "4. **Walmart (Varejo):** A gigante do varejo, Walmart, possui um patrimônio líquido de \\$236.4 bilhões. Isso sublinha a importância do setor varejista na economia global.\n",
    "\n",
    "5. **Diversificado:** Com um patrimônio líquido de \\$235 bilhões, o setor diversificado representa uma variedade de negócios e estratégias. Isso ilustra como a diversificação pode ser uma estratégia eficaz para acumular riqueza.\n",
    "\n",
    "Esses números refletem não apenas os sucessos individuais desses setores, mas também oferecem insights sobre as diferentes facetas da economia global e as oportunidades que eles oferecem.\n"
   ]
  },
  {
   "cell_type": "code",
   "execution_count": 32,
   "id": "bc808a5d",
   "metadata": {},
   "outputs": [
    {
     "data": {
      "text/html": [
       "<div>\n",
       "<style scoped>\n",
       "    .dataframe tbody tr th:only-of-type {\n",
       "        vertical-align: middle;\n",
       "    }\n",
       "\n",
       "    .dataframe tbody tr th {\n",
       "        vertical-align: top;\n",
       "    }\n",
       "\n",
       "    .dataframe thead th {\n",
       "        text-align: right;\n",
       "    }\n",
       "</style>\n",
       "<table border=\"1\" class=\"dataframe\">\n",
       "  <thead>\n",
       "    <tr style=\"text-align: right;\">\n",
       "      <th></th>\n",
       "      <th>Classificacao</th>\n",
       "      <th>Nome</th>\n",
       "      <th>Patrimonio_Liquido</th>\n",
       "      <th>Idade</th>\n",
       "      <th>Origem</th>\n",
       "      <th>Pais_Territorio</th>\n",
       "    </tr>\n",
       "  </thead>\n",
       "  <tbody>\n",
       "    <tr>\n",
       "      <th>0</th>\n",
       "      <td>1</td>\n",
       "      <td>Bernard Arnault &amp; family</td>\n",
       "      <td>232.2</td>\n",
       "      <td>74</td>\n",
       "      <td>lvmh</td>\n",
       "      <td>France</td>\n",
       "    </tr>\n",
       "    <tr>\n",
       "      <th>1</th>\n",
       "      <td>2</td>\n",
       "      <td>Elon Musk</td>\n",
       "      <td>184.7</td>\n",
       "      <td>51</td>\n",
       "      <td>tesla, spacex</td>\n",
       "      <td>United States</td>\n",
       "    </tr>\n",
       "    <tr>\n",
       "      <th>2</th>\n",
       "      <td>3</td>\n",
       "      <td>Jeff Bezos</td>\n",
       "      <td>139.1</td>\n",
       "      <td>59</td>\n",
       "      <td>amazon</td>\n",
       "      <td>United States</td>\n",
       "    </tr>\n",
       "    <tr>\n",
       "      <th>3</th>\n",
       "      <td>4</td>\n",
       "      <td>Larry Ellison</td>\n",
       "      <td>127.8</td>\n",
       "      <td>78</td>\n",
       "      <td>oracle</td>\n",
       "      <td>United States</td>\n",
       "    </tr>\n",
       "    <tr>\n",
       "      <th>4</th>\n",
       "      <td>5</td>\n",
       "      <td>Warren Buffett</td>\n",
       "      <td>116.3</td>\n",
       "      <td>92</td>\n",
       "      <td>berkshire hathaway</td>\n",
       "      <td>United States</td>\n",
       "    </tr>\n",
       "  </tbody>\n",
       "</table>\n",
       "</div>"
      ],
      "text/plain": [
       "   Classificacao                      Nome  Patrimonio_Liquido  Idade  \\\n",
       "0              1  Bernard Arnault & family               232.2     74   \n",
       "1              2                 Elon Musk               184.7     51   \n",
       "2              3                Jeff Bezos               139.1     59   \n",
       "3              4             Larry Ellison               127.8     78   \n",
       "4              5            Warren Buffett               116.3     92   \n",
       "\n",
       "               Origem Pais_Territorio  \n",
       "0                lvmh          France  \n",
       "1       tesla, spacex   United States  \n",
       "2              amazon   United States  \n",
       "3              oracle   United States  \n",
       "4  berkshire hathaway   United States  "
      ]
     },
     "execution_count": 32,
     "metadata": {},
     "output_type": "execute_result"
    }
   ],
   "source": [
    "df.head()"
   ]
  },
  {
   "cell_type": "code",
   "execution_count": 41,
   "id": "87010132",
   "metadata": {},
   "outputs": [
    {
     "data": {
      "text/html": [
       "<div>\n",
       "<style scoped>\n",
       "    .dataframe tbody tr th:only-of-type {\n",
       "        vertical-align: middle;\n",
       "    }\n",
       "\n",
       "    .dataframe tbody tr th {\n",
       "        vertical-align: top;\n",
       "    }\n",
       "\n",
       "    .dataframe thead th {\n",
       "        text-align: right;\n",
       "    }\n",
       "</style>\n",
       "<table border=\"1\" class=\"dataframe\">\n",
       "  <thead>\n",
       "    <tr style=\"text-align: right;\">\n",
       "      <th></th>\n",
       "      <th>Classificacao</th>\n",
       "      <th>Nome</th>\n",
       "      <th>Patrimonio_Liquido</th>\n",
       "      <th>Idade</th>\n",
       "      <th>Origem</th>\n",
       "      <th>Pais_Territorio</th>\n",
       "    </tr>\n",
       "  </thead>\n",
       "  <tbody>\n",
       "    <tr>\n",
       "      <th>93</th>\n",
       "      <td>94</td>\n",
       "      <td>Vicky Safra &amp; family</td>\n",
       "      <td>17.3</td>\n",
       "      <td>70</td>\n",
       "      <td>banking</td>\n",
       "      <td>Brazil</td>\n",
       "    </tr>\n",
       "    <tr>\n",
       "      <th>103</th>\n",
       "      <td>104</td>\n",
       "      <td>Eduardo Saverin</td>\n",
       "      <td>16.2</td>\n",
       "      <td>41</td>\n",
       "      <td>facebook</td>\n",
       "      <td>Brazil</td>\n",
       "    </tr>\n",
       "    <tr>\n",
       "      <th>108</th>\n",
       "      <td>109</td>\n",
       "      <td>Jorge Paulo Lemann &amp; family</td>\n",
       "      <td>15.6</td>\n",
       "      <td>83</td>\n",
       "      <td>beer</td>\n",
       "      <td>Brazil</td>\n",
       "    </tr>\n",
       "    <tr>\n",
       "      <th>167</th>\n",
       "      <td>168</td>\n",
       "      <td>Marcel Herrmann Telles</td>\n",
       "      <td>10.5</td>\n",
       "      <td>73</td>\n",
       "      <td>beer</td>\n",
       "      <td>Brazil</td>\n",
       "    </tr>\n",
       "    <tr>\n",
       "      <th>231</th>\n",
       "      <td>232</td>\n",
       "      <td>Carlos Alberto Sicupira &amp; family</td>\n",
       "      <td>8.6</td>\n",
       "      <td>75</td>\n",
       "      <td>beer</td>\n",
       "      <td>Brazil</td>\n",
       "    </tr>\n",
       "    <tr>\n",
       "      <th>445</th>\n",
       "      <td>446</td>\n",
       "      <td>Alexandre Behring</td>\n",
       "      <td>5.9</td>\n",
       "      <td>56</td>\n",
       "      <td>investments</td>\n",
       "      <td>Brazil</td>\n",
       "    </tr>\n",
       "    <tr>\n",
       "      <th>447</th>\n",
       "      <td>448</td>\n",
       "      <td>Andre Esteves</td>\n",
       "      <td>5.9</td>\n",
       "      <td>54</td>\n",
       "      <td>banking</td>\n",
       "      <td>Brazil</td>\n",
       "    </tr>\n",
       "  </tbody>\n",
       "</table>\n",
       "</div>"
      ],
      "text/plain": [
       "     Classificacao                              Nome  Patrimonio_Liquido  \\\n",
       "93              94              Vicky Safra & family                17.3   \n",
       "103            104                   Eduardo Saverin                16.2   \n",
       "108            109       Jorge Paulo Lemann & family                15.6   \n",
       "167            168            Marcel Herrmann Telles                10.5   \n",
       "231            232  Carlos Alberto Sicupira & family                 8.6   \n",
       "445            446                 Alexandre Behring                 5.9   \n",
       "447            448                     Andre Esteves                 5.9   \n",
       "\n",
       "     Idade       Origem Pais_Territorio  \n",
       "93      70      banking          Brazil  \n",
       "103     41     facebook          Brazil  \n",
       "108     83         beer          Brazil  \n",
       "167     73         beer          Brazil  \n",
       "231     75         beer          Brazil  \n",
       "445     56  investments          Brazil  \n",
       "447     54      banking          Brazil  "
      ]
     },
     "execution_count": 41,
     "metadata": {},
     "output_type": "execute_result"
    }
   ],
   "source": [
    "df.loc[df['Pais_Territorio'] == 'Brazil']"
   ]
  },
  {
   "cell_type": "code",
   "execution_count": 39,
   "id": "9f1dea14",
   "metadata": {},
   "outputs": [
    {
     "data": {
      "text/plain": [
       "Text(0.5, 24.5, 'Patrimônio Líquido (Bilhões de Dólares)')"
      ]
     },
     "execution_count": 39,
     "metadata": {},
     "output_type": "execute_result"
    },
    {
     "data": {
      "image/png": "[encoded data removed]",
      "text/plain": [
       "<Figure size 800x500 with 1 Axes>"
      ]
     },
     "metadata": {},
     "output_type": "display_data"
    }
   ],
   "source": [
    "\n",
    "pais_brasil = pais_brasil.sort_values(by= 'Patrimonio_Liquido')\n",
    "fig, ax5 = plt.subplots(figsize=(8,5))\n",
    "plt.barh(pais_brasil['Nome'], pais_brasil['Patrimonio_Liquido'], edgecolor='black', alpha = 0.7, color='skyblue')\n",
    "[s.set_visible(False) for s in ax5.spines.values()]\n",
    "plt.grid(False)\n",
    "ax4.set_title('Top 10 Empresas com Maior Patrimônio Líquido')\n",
    "ax4.set_xlabel('Patrimônio Líquido (Bilhões de Dólares)')\n",
    "#autolabel(plt.gca().patches)"
   ]
  }
 ],
 "metadata": {
  "kernelspec": {
   "display_name": "Python 3 (ipykernel)",
   "language": "python",
   "name": "python3"
  },
  "language_info": {
   "codemirror_mode": {
    "name": "ipython",
    "version": 3
   },
   "file_extension": ".py",
   "mimetype": "text/x-python",
   "name": "python",
   "nbconvert_exporter": "python",
   "pygments_lexer": "ipython3",
   "version": "3.11.5"
  }
 },
 "nbformat": 4,
 "nbformat_minor": 5
}
